{
 "cells": [
  {
   "cell_type": "markdown",
   "id": "bb64c3b7",
   "metadata": {},
   "source": [
    "*This jupyter notebook is part of Arizona State University's course CAS 523 (Methods for Complex Systems Science: Statistics and Dimensionality Reduction) and was written by Bryan Daniels.  It was last updated August 24, 2022.*\n",
    "\n",
    "*This assignment uses data from the [Stanford Network Analysis Project](http://snap.stanford.edu/) (SNAP).  More information about each data set is included in links below.*"
   ]
  },
  {
   "cell_type": "markdown",
   "id": "7ea280d5",
   "metadata": {},
   "source": [
    "# Interpreting network statistics"
   ]
  },
  {
   "cell_type": "markdown",
   "id": "0346061b",
   "metadata": {},
   "source": [
    "We quite often use the concept of a network to represent the structure of complex systems.  Once we have such a representation, statistics that capture important information about the network structure can be useful in understanding the system's behavior.\n",
    "\n",
    "In this exercise, we will practice loading existing network data from two social systems, interpreting statistics measured from these networks, and doing some basic dimensionality reduction for visualization."
   ]
  },
  {
   "cell_type": "markdown",
   "id": "386155d9",
   "metadata": {},
   "source": [
    "## Load python packages and bibliographic data"
   ]
  },
  {
   "cell_type": "markdown",
   "id": "c51d8ad7",
   "metadata": {},
   "source": [
    "First we load some standard packages:"
   ]
  },
  {
   "cell_type": "code",
   "execution_count": null,
   "id": "abe061e6",
   "metadata": {},
   "outputs": [],
   "source": [
    "import numpy as np\n",
    "from scipy import stats\n",
    "from matplotlib import pyplot as plt\n",
    "plt.rcParams.update({'font.size': 18}) # increases font size on plots\n",
    "from pathlib import Path # to handle file paths across all operating systems"
   ]
  },
  {
   "cell_type": "markdown",
   "id": "8aefe9d8",
   "metadata": {},
   "source": [
    "For network analysis, we will use the popular python package `networkx` (see [networkx.org](https://networkx.org/) for more information about this package):"
   ]
  },
  {
   "cell_type": "code",
   "execution_count": null,
   "id": "a1d04080",
   "metadata": {},
   "outputs": [],
   "source": [
    "import networkx as nx\n",
    "import networkx.algorithms.community as nx_comm # community detection functionality\n",
    "from helpers.networkx_patch import * # temporary patch for networkx 2.7.1 under scipy 1.7.3"
   ]
  },
  {
   "cell_type": "markdown",
   "id": "884b34ab",
   "metadata": {},
   "source": [
    "We will first study a network representing collaborations between physicists studying general relativity and quantum cosmology.  Two physicists are connected by an edge in the network if they appeared as co-authors on an academic paper between January 1993 and April 2003.  Details about this dataset can be found [here](http://snap.stanford.edu/data/ca-GrQc.html).\n",
    "\n",
    "The function `read_edgelist` reads in a text file in which each line in the file represents an edge in a network.  The result is a `networkx` `Graph` object."
   ]
  },
  {
   "cell_type": "code",
   "execution_count": null,
   "id": "0f30af76",
   "metadata": {},
   "outputs": [],
   "source": [
    "G = nx.read_edgelist(Path('data/SNAP/ca-GrQc.txt'))"
   ]
  },
  {
   "cell_type": "code",
   "execution_count": null,
   "id": "4091550d",
   "metadata": {},
   "outputs": [],
   "source": [
    "type(G)"
   ]
  },
  {
   "cell_type": "markdown",
   "id": "0c60e1cd",
   "metadata": {},
   "source": [
    "We can get some basic information about the network to check that the file loaded correctly:"
   ]
  },
  {
   "cell_type": "code",
   "execution_count": null,
   "id": "3996b60d",
   "metadata": {},
   "outputs": [],
   "source": [
    "print(\"The network contains {} nodes and {} edges.\".format(G.number_of_nodes(),G.number_of_edges()))"
   ]
  },
  {
   "cell_type": "markdown",
   "id": "20e5a24e",
   "metadata": {},
   "source": [
    "❓ **For the scientists and timeframe covered by this dataset, what is the average number of other scientists that each scientist has co-authored with?** *Hint: Each edge (representing a co-authorship) is attached to two nodes (representing scientists).*"
   ]
  },
  {
   "cell_type": "markdown",
   "id": "21e5e7e7",
   "metadata": {},
   "source": [
    "✳️ **Answer:** "
   ]
  },
  {
   "cell_type": "markdown",
   "id": "88a5567c",
   "metadata": {},
   "source": [
    "## Network visualization"
   ]
  },
  {
   "cell_type": "markdown",
   "id": "f2b2cd89",
   "metadata": {},
   "source": [
    "Let's try to visualize this network.  Visualization of large networks is generally a hard problem and could easily be the subject of its own course.  We will use the dimensionality reduction technique of clustering (also known as \"community detection\" in the network science literature) to try to make some progress.\n",
    "\n",
    "By default, `nx.draw` will use a so-called \"spring\" layout, where nodes are initially placed at random, and edges are treated as springs that have some preferred length.  Nodes are then moved around by the algorithm so that edges are closer to their preferred length.\n",
    "\n",
    "Try running `nx.draw` for our network below.  For a network of this size, the algorithm will take a few minutes to run."
   ]
  },
  {
   "cell_type": "code",
   "execution_count": null,
   "id": "c82f363a",
   "metadata": {},
   "outputs": [],
   "source": [
    "plt.figure(figsize=(20,20))\n",
    "nx.draw(G)"
   ]
  },
  {
   "cell_type": "markdown",
   "id": "b539ff93",
   "metadata": {},
   "source": [
    "The results are somewhat random due to the initial random placement, but it is likely that you got one large blob of nodes in the center surrounded by smaller blobs.  This is showing the fact that there is one large \"connected component\" of scientists and many other smaller groups, but we don't get much else out of this plot.\n",
    "\n",
    "(By the way: you may also notice some circular \"self-loops\" in the network.  This is coming from the fact that, for some reason, a few authors are listed as having co-authored with themselves.  This is a good example of an anomaly in the data that we should check into to make sure we understand what's going on.  For now, we will just ignore these self-loops as there aren't that many, but in a real use case it would make sense to ask the original collectors of the data about this.  You can also remove the self-loops using `G.remove_edges_from(nx.selfloop_edges(G))` if you want to have cleaner-looking visualizations.)"
   ]
  },
  {
   "cell_type": "markdown",
   "id": "7e684637",
   "metadata": {},
   "source": [
    "Now let's use ideas of dimensionality reduction to find more structure.  Specifically, we will use a community detection algorithm to split the scientists into related groups.  The function `louvain_communities` is one such algorithm."
   ]
  },
  {
   "cell_type": "code",
   "execution_count": null,
   "id": "3580809f",
   "metadata": {},
   "outputs": [],
   "source": [
    "communities = nx_comm.louvain_communities(G)"
   ]
  },
  {
   "cell_type": "markdown",
   "id": "6de5a558",
   "metadata": {},
   "source": [
    "Let's see what this function produces (and remember that you can use shift-Tab in Jupyter to look at the function's documentation):"
   ]
  },
  {
   "cell_type": "code",
   "execution_count": null,
   "id": "afa1eba9",
   "metadata": {},
   "outputs": [],
   "source": [
    "len(communities)"
   ]
  },
  {
   "cell_type": "code",
   "execution_count": null,
   "id": "9dbe7bf8",
   "metadata": {},
   "outputs": [],
   "source": [
    "communities[0]"
   ]
  },
  {
   "cell_type": "code",
   "execution_count": null,
   "id": "856772bc",
   "metadata": {},
   "outputs": [],
   "source": [
    "community_sizes = [ len(c) for c in communities ]\n",
    "community_sizes[:10]"
   ]
  },
  {
   "cell_type": "markdown",
   "id": "c5d3f103",
   "metadata": {},
   "source": [
    "So we have about 400 communities of varying sizes, with each community specified by a list of nodes."
   ]
  },
  {
   "cell_type": "markdown",
   "id": "d1aaefe7",
   "metadata": {},
   "source": [
    "Let's redraw the network with these communities plotted in different colors.  We'll use the function `nx.draw_networkx`, which gives us more control over the plot than the simple `nx.draw` (I also reduced the size of the nodes by setting `node_size` and the width of the edges using `width`):"
   ]
  },
  {
   "cell_type": "code",
   "execution_count": null,
   "id": "f7ba4d45",
   "metadata": {},
   "outputs": [],
   "source": [
    "# makes a dictionary mapping each node to a color corresponding to its community\n",
    "colors_dict = dict(np.concatenate([ list(zip(comm,np.repeat('C{}'.format(i),len(comm)))) \\\n",
    "                                    for i,comm in enumerate(communities) ]))\n",
    "\n",
    "# makes network plot using a different color for each community\n",
    "plt.figure(figsize=(20,20))\n",
    "nx.draw_networkx(G,\n",
    "                 node_color=[ colors_dict[node] for node in G.nodes ],\n",
    "                 with_labels=False,\n",
    "                 node_size=10,\n",
    "                 width=0.1)\n",
    "plt.axis('off')\n",
    "plt.axis('equal');"
   ]
  },
  {
   "cell_type": "markdown",
   "id": "a9bb112a",
   "metadata": {},
   "source": [
    "We're getting closer to something more interpretable, but the blob in the center is still just a blob.  Let's plot just a few communities at a time to make things easier to see.\n",
    "\n",
    "The following function creates a subgraph that includes only nodes that are in communities with indices given in `community_indices`.  For instance, `community_subgraph(G,communities,[2,3])` will produce a subgraph of `G` that only includes nodes in communities 2 and 3."
   ]
  },
  {
   "cell_type": "code",
   "execution_count": null,
   "id": "e375df6c",
   "metadata": {},
   "outputs": [],
   "source": [
    "def community_subgraph(G,communities,community_indices):\n",
    "    communities_subset = [communities[i] for i in community_indices]\n",
    "    return G.subgraph(set.union(*communities_subset))"
   ]
  },
  {
   "cell_type": "markdown",
   "id": "f086bd36",
   "metadata": {},
   "source": [
    "❓ **Use `community_subgraph` and `draw_networkx` as above to make a network diagram that includes just two (or a few) large communities.  Call your subgraph `subG` and keep it for later use.** *Hint: Given the random initial conditions in the network layout routine, you may want to run the network plotting a few times to find a visualization that is easiest to interpret.  Feel free to play with the arguments of `draw_networkx` to get a picture that you are happy with.*"
   ]
  },
  {
   "cell_type": "code",
   "execution_count": null,
   "id": "381b9a73",
   "metadata": {},
   "outputs": [],
   "source": [
    "# ✳️ **Answer:**"
   ]
  },
  {
   "cell_type": "markdown",
   "id": "7eb7fe24",
   "metadata": {},
   "source": [
    "❓ **Interpret your results in terms of collaboration structures.  How does the community detection algorithm help with interpretation?** *Hint: What does `louvain_communities` look for in the network structure?  It may help to look at the documentation and to recall the typical goal of community detection algorithms.*"
   ]
  },
  {
   "cell_type": "markdown",
   "id": "9eb024b1",
   "metadata": {},
   "source": [
    "✳️ **Answer:** "
   ]
  },
  {
   "cell_type": "markdown",
   "id": "b60912bd",
   "metadata": {},
   "source": [
    "## Compute large-scale statistics"
   ]
  },
  {
   "cell_type": "markdown",
   "id": "a989b7fa",
   "metadata": {},
   "source": [
    "The following code computes the average shortest path length within the subgraph `subG` and the average clustering coefficient in the entire network:"
   ]
  },
  {
   "cell_type": "code",
   "execution_count": null,
   "id": "1cbccaf2",
   "metadata": {},
   "outputs": [],
   "source": [
    "nx.average_shortest_path_length(subG)"
   ]
  },
  {
   "cell_type": "code",
   "execution_count": null,
   "id": "0a55d9f8",
   "metadata": {},
   "outputs": [],
   "source": [
    "nx.average_clustering(G)"
   ]
  },
  {
   "cell_type": "markdown",
   "id": "89be3eae",
   "metadata": {},
   "source": [
    "❓ **Interpret these statistics in terms of scientific collaborations.**"
   ]
  },
  {
   "cell_type": "markdown",
   "id": "1c687420",
   "metadata": {},
   "source": [
    "✳️ **Answer:** "
   ]
  },
  {
   "cell_type": "markdown",
   "id": "692c0158",
   "metadata": {},
   "source": [
    "## Plot and roughly fit the degree distribution"
   ]
  },
  {
   "cell_type": "markdown",
   "id": "01d3bd5b",
   "metadata": {},
   "source": [
    "Finally, we will look at the distribution of degrees.  The following code plots the empirically observed degree distribution on a log-log plot:"
   ]
  },
  {
   "cell_type": "code",
   "execution_count": null,
   "id": "ce27f246",
   "metadata": {},
   "outputs": [],
   "source": [
    "# create a list of the degree of each node\n",
    "# (this code filters out degrees of zero)\n",
    "degree_list = [d for n, d in G.degree() if d > 0]\n",
    "# count the number of nodes that have each degree\n",
    "degrees,counts = np.unique(degree_list,return_counts=True)\n",
    "\n",
    "# make a plot\n",
    "plt.scatter(degrees,counts)\n",
    "plt.xlabel('Degree')\n",
    "plt.ylabel('Frequency')\n",
    "plt.xscale('log')\n",
    "plt.yscale('log')"
   ]
  },
  {
   "cell_type": "markdown",
   "id": "c95f0764",
   "metadata": {},
   "source": [
    "The shape of this distribution can be very roughly fit by a Pareto (power-law) distribution.  The following code computes the best fit Pareto distribution and plots it alongside the data:"
   ]
  },
  {
   "cell_type": "code",
   "execution_count": null,
   "id": "97ba827f",
   "metadata": {},
   "outputs": [],
   "source": [
    "paramsPowerLaw = stats.pareto.fit(degree_list,floc=0,fscale=1)\n",
    "print(paramsPowerLaw)"
   ]
  },
  {
   "cell_type": "code",
   "execution_count": null,
   "id": "862f51fc",
   "metadata": {},
   "outputs": [],
   "source": [
    "xs = np.linspace(1,100,100)\n",
    "plt.plot(xs,[stats.pareto.pdf(x,*paramsPowerLaw) for x in xs],color='C1')\n",
    "plt.scatter(degrees,counts/np.sum(counts),zorder=2,label='Power law fit')\n",
    "plt.xlabel('Degree')\n",
    "plt.ylabel('Probability density')\n",
    "plt.xscale('log')\n",
    "plt.yscale('log')"
   ]
  },
  {
   "cell_type": "markdown",
   "id": "ee3450c6",
   "metadata": {},
   "source": [
    "(Note: There is some controversy in the complex systems research literature about whether power law (aka \"scale free\") distributions are truly ubiquitous or merely overused.  Some have complained that any distribution that looks close to straight on a log-log plot is automatically assumed to be a power-law, even when it is not a particularly convincing fit.  We won't explore this in much detail here, but a good entry point into this literature can be found [here](https://doi.org/10.1137/070710111).)"
   ]
  },
  {
   "cell_type": "markdown",
   "id": "ec48343e",
   "metadata": {},
   "source": [
    "❓ **How might this degree distribution analysis help us in thinking about scientific collaborations?  Could it help in building a model of scientific collaborations or innovations?**"
   ]
  },
  {
   "cell_type": "markdown",
   "id": "92ff5766",
   "metadata": {},
   "source": [
    "✳️ **Answer:** "
   ]
  },
  {
   "cell_type": "markdown",
   "id": "037f6b96",
   "metadata": {},
   "source": [
    "⚛️ **Bonus question (for nothing but bragging rights): Do the same degree distribution analysis for the social network dataset from Google Plus in 2012, available [here](http://snap.stanford.edu/data/ego-Gplus.html), which includes the friendship network of over 100,000 people.** *Hint: The data set takes a few minutes to load, but after that the relevant computations run relatively quickly on my laptop.*"
   ]
  },
  {
   "cell_type": "markdown",
   "id": "85a61ce5",
   "metadata": {},
   "source": [
    "✴️ **Answer:**"
   ]
  }
 ],
 "metadata": {
  "kernelspec": {
   "display_name": "Python 3 (ipykernel)",
   "language": "python",
   "name": "python3"
  },
  "language_info": {
   "codemirror_mode": {
    "name": "ipython",
    "version": 3
   },
   "file_extension": ".py",
   "mimetype": "text/x-python",
   "name": "python",
   "nbconvert_exporter": "python",
   "pygments_lexer": "ipython3",
   "version": "3.9.12"
  }
 },
 "nbformat": 4,
 "nbformat_minor": 5
}
