{
 "cells": [
  {
   "cell_type": "markdown",
   "id": "599d0bfb",
   "metadata": {},
   "source": [
    "*This jupyter notebook is part of Arizona State University's course CAS 523 (Methods for Complex Systems Science: Statistics and Dimensionality Reduction) and was written by Bryan Daniels.  It was last updated August 31, 2022.*\n",
    "\n",
    "*This assignment uses data gathered by Ying Wang and Robert E. Page, Jr. at Arizona State University.*"
   ]
  },
  {
   "cell_type": "markdown",
   "id": "1f777706",
   "metadata": {},
   "source": [
    "# Reducing the dimensionality of gene expression data using PCA"
   ]
  },
  {
   "cell_type": "markdown",
   "id": "fb121967",
   "metadata": {},
   "source": [
    "In this exercise, we will practice using Principal Components Analysis to extract useful insights from a large-dimensional set of gene expression data.  We will see how a scientific question can be more easily approached when we visualize the data in a lower-dimensional space.\n",
    "\n",
    "This is part of a research project that I worked on together with Ying Wang, Rob Page, and Gro Amdam here at ASU, who are experts in honey bee physiology, behavior, and genetics.  Combining my expertise in physics and complex systems data analysis, this project is also a good example of the results of interdisciplinary collaboration."
   ]
  },
  {
   "cell_type": "markdown",
   "id": "b3656a14",
   "metadata": {},
   "source": [
    "## Get set up and load the data"
   ]
  },
  {
   "cell_type": "markdown",
   "id": "4d3a65a1",
   "metadata": {},
   "source": [
    "**NOTE:** The dataset that we use in this assignment is not yet publicly available, but I have permission to share it with students.  For this reason, I do not include the data file in the public github repository.  Instead, it is available for download on Canvas.  Please follow the link on the Canvas assignment page to download the file `Wang_Page_nanostring_data_2016_Day_15.csv` and place it in the folder `data/WangPage2016/` in your own copy of the github repository.  Please do not share these data outside of this class."
   ]
  },
  {
   "cell_type": "markdown",
   "id": "75c60345",
   "metadata": {},
   "source": [
    "Let's load some useful basic packages and functions first:"
   ]
  },
  {
   "cell_type": "code",
   "execution_count": null,
   "id": "daf4f5df",
   "metadata": {},
   "outputs": [],
   "source": [
    "import pandas as pd\n",
    "import numpy as np\n",
    "from matplotlib import pyplot as plt\n",
    "plt.rcParams.update({'font.size': 18}) # increases font size on plots\n",
    "from helpers.prettyPlotting import scatter1D # custom 1D scatter plot\n",
    "from pathlib import Path # to handle file paths across all operating systems"
   ]
  },
  {
   "cell_type": "markdown",
   "id": "80cad462",
   "metadata": {},
   "source": [
    "We will use the scikit learn function `sklearn.decomposition.PCA` to perform PCA.  The documentation is available [here](https://scikit-learn.org/stable/modules/generated/sklearn.decomposition.PCA.html)."
   ]
  },
  {
   "cell_type": "code",
   "execution_count": null,
   "id": "b2ed0803",
   "metadata": {},
   "outputs": [],
   "source": [
    "from sklearn.decomposition import PCA"
   ]
  },
  {
   "cell_type": "markdown",
   "id": "55a8c23c",
   "metadata": {},
   "source": [
    "Now load the data:"
   ]
  },
  {
   "cell_type": "code",
   "execution_count": null,
   "id": "34bf2a1d",
   "metadata": {},
   "outputs": [],
   "source": [
    "dataPath = Path('data/WangPage2016/Wang_Page_nanostring_data_2016_Day_15.csv')\n",
    "expressionData = pd.read_csv(dataPath).drop(columns=['Age','VG protein '])"
   ]
  },
  {
   "cell_type": "markdown",
   "id": "a175db07",
   "metadata": {},
   "source": [
    "## What do these data represent?"
   ]
  },
  {
   "cell_type": "markdown",
   "id": "56917cef",
   "metadata": {},
   "source": [
    "These measurements were taken in honey bees at a precise time during their development (15 days old) when some bees are starting to leave the nest to forage for food.  Interestingly, some bees become foragers at a much younger age, while others stay in the nest much longer to take care of younger bees.  This transition is relatively sudden, with few bees switching back to in-nest activities once they start foraging.  There seem to be two separate \"types\" of bees related to which tasks they perform.  This is similar to how different cell types perform different tasks in your body.\n",
    "\n",
    "Our question: As in cells in human development, are different bee types (those that perform distinct functions) related to which genes are expressed?\n",
    "\n",
    "My collaborators chose genes to measure that were suspected to be related to the behavioral transition to foraging.  These data represent how strongly these genes are expressed in individual honey bees.  (Specifically, these are [measurements of the amount of RNA](https://en.wikipedia.org/wiki/RNA-Seq) present for each of the genes of interest.  We have taken the logarithm of the raw data to more easily capture wide variations in expression.)"
   ]
  },
  {
   "cell_type": "markdown",
   "id": "d8f648bf",
   "metadata": {},
   "source": [
    "Let's first look at the form of the data we have:"
   ]
  },
  {
   "cell_type": "code",
   "execution_count": null,
   "id": "e9c5681d",
   "metadata": {},
   "outputs": [],
   "source": [
    "expressionData"
   ]
  },
  {
   "cell_type": "markdown",
   "id": "13e06b96",
   "metadata": {},
   "source": [
    "This is a `pandas` dataframe in which the columns represent the genes (90 of them) and the rows represent 16 individual bees whose gene expression was measured."
   ]
  },
  {
   "cell_type": "markdown",
   "id": "52d0f59e",
   "metadata": {},
   "source": [
    "The default when printing a dataframe to the screen is to hide as many rows and columns as necessary to fit on a screen at once without a lot of scrolling.  To see the names of all the genes in the data, we can look at the `columns` attribute:"
   ]
  },
  {
   "cell_type": "code",
   "execution_count": null,
   "id": "b3c847ef",
   "metadata": {},
   "outputs": [],
   "source": [
    "expressionData.columns"
   ]
  },
  {
   "cell_type": "markdown",
   "id": "2a8d52bb",
   "metadata": {},
   "source": [
    "❓ **What is the dimension of each sample data point from this dataset?  That is, if I imagine plotting the gene expression profile of each bee as a point in space, what is the dimensionality of this space?** *Hint: I'm thinking here of each bee representing a single sample.*"
   ]
  },
  {
   "cell_type": "markdown",
   "id": "7e2643b4",
   "metadata": {},
   "source": [
    "✳️ **Answer:**"
   ]
  },
  {
   "cell_type": "markdown",
   "id": "eaf03b8e",
   "metadata": {},
   "source": [
    "## Try visualizing in 2D"
   ]
  },
  {
   "cell_type": "markdown",
   "id": "33b88ad5",
   "metadata": {},
   "source": [
    "Due to the large dimensionality of the dataset, it can be difficult to decide which aspects to focus on for thinking about our question about bee types.  Which genes are important?\n",
    "\n",
    "One way to start is to visualize the data in lower dimensions by focusing on one or a few genes of interest at a time.  An easy way to do this using `pandas` is to use the `plot.scatter` function, which takes the names of two columns and constructs a scatter plot.  For example, we can visualize the expression of the genes *vg* and *ILP-2* in our 16 bees:"
   ]
  },
  {
   "cell_type": "code",
   "execution_count": null,
   "id": "f5a5a8dd",
   "metadata": {
    "scrolled": true
   },
   "outputs": [],
   "source": [
    "expressionData.plot.scatter('vg','ILP-2');"
   ]
  },
  {
   "cell_type": "markdown",
   "id": "cb39a678",
   "metadata": {},
   "source": [
    "❓ **Choose a few other pairs of genes and make 2D scatter plots.  What insight do you gain from these plots?  Are there disadvantages to this approach?** *Hint: Consider the number of possible pairs of genes.  Also consider what would happen if many genes made small contributions to distinguishing between two bee behavioral types.*"
   ]
  },
  {
   "cell_type": "markdown",
   "id": "99ab5a9b",
   "metadata": {},
   "source": [
    "✳️ **Answer:** "
   ]
  },
  {
   "cell_type": "markdown",
   "id": "08035a26",
   "metadata": {},
   "source": [
    "As I initially played around with these data, I happened to find that the pair of genes *vg* and *P110* made for an intriguing scatter plot."
   ]
  },
  {
   "cell_type": "markdown",
   "id": "0a534dd6",
   "metadata": {},
   "source": [
    "❓ **Make a scatter plot for the genes *vg* and *P110*.  Just looking at this plot, can you construct a simple hypothesis about how the expression of these two genes might correspond to two bee types?**"
   ]
  },
  {
   "cell_type": "markdown",
   "id": "3395d119",
   "metadata": {},
   "source": [
    "✳️ **Answer:** "
   ]
  },
  {
   "cell_type": "markdown",
   "id": "9fa69f9d",
   "metadata": {},
   "source": [
    "# Use PCA to do dimensionality reduction"
   ]
  },
  {
   "cell_type": "markdown",
   "id": "65ad86d0",
   "metadata": {},
   "source": [
    "Instead of searching through many possible genes related to this transition, can we use dimensionality reduction to find one or a few dimensions that are particularly interesting?\n",
    "\n",
    "Recall that Principal Components Analysis (PCA) is one way of picking out such dimensions: PCA chooses the dimensions with largest variance.  This could be useful for our question about bee types because, if gene expression varies with bee type, then we expect larger variance (and correlated variance) among the genes that define the distinct bee types."
   ]
  },
  {
   "cell_type": "markdown",
   "id": "a615ea9b",
   "metadata": {},
   "source": [
    "The following code runs PCA on our `expressionData` dataframe, keeping only the 10 components with largest variance:"
   ]
  },
  {
   "cell_type": "code",
   "execution_count": null,
   "id": "36f711f2",
   "metadata": {},
   "outputs": [],
   "source": [
    "pca_results = PCA(n_components=10).fit(expressionData)"
   ]
  },
  {
   "cell_type": "markdown",
   "id": "07732ef6",
   "metadata": {},
   "source": [
    "The results are stored as attributes of the `pca_results` object, which we explore below.  (If you are curious about what all is in there, recall how tab completion works in jupyter notebooks: you can type `pca_results.` followed by the tab key to see a list of the object's subparts.)"
   ]
  },
  {
   "cell_type": "markdown",
   "id": "e7ddb10e",
   "metadata": {},
   "source": [
    "## How low-dimensional are the data?"
   ]
  },
  {
   "cell_type": "markdown",
   "id": "dec7d5fe",
   "metadata": {},
   "source": [
    "As a first step for thinking about what PCA is doing, let's ask how much variance there is in the data along each of these first 10 components.  Specifically, we'll ask what proportion of the total variance lies along each principal component.  This is stored as `explained_variance_ratio_`:"
   ]
  },
  {
   "cell_type": "code",
   "execution_count": null,
   "id": "a01df001",
   "metadata": {},
   "outputs": [],
   "source": [
    "pca_results.explained_variance_ratio_"
   ]
  },
  {
   "cell_type": "markdown",
   "id": "d73ee737",
   "metadata": {},
   "source": [
    "By construction, the first components have the largest variance (or \"explain\" the most variance, in the common lingo).\n",
    "\n",
    "A common way of visualizing this is to plot the total variance included as a function of the number of principal components kept.  The following code computes this \"cumulative sum\" and plots it:"
   ]
  },
  {
   "cell_type": "code",
   "execution_count": null,
   "id": "6259fe01",
   "metadata": {},
   "outputs": [],
   "source": [
    "var_explained_cumulative = pca_results.explained_variance_ratio_.cumsum()\n",
    "plt.plot(np.arange(len(var_explained_cumulative))+1,var_explained_cumulative,'o:')\n",
    "plt.xlabel('Number of principal components')\n",
    "plt.ylabel('Proportion of\\nvariance included')\n",
    "plt.axis(xmin=1,ymax=1,ymin=0);"
   ]
  },
  {
   "cell_type": "markdown",
   "id": "db1ec8ff",
   "metadata": {},
   "source": [
    "❓ **If I wanted to reduce the dimension of the dataset so that I included the minimum number of dimensions to capture 90% of the total variance, how many dimensions would I need?  In what sense is this a measure of how low dimensional the dataset is?** *Hint: It might help to think about extreme cases: What would have to be true about the data for 90% of the variance to be explained by a single dimension?  When would we have to keep all dimensions?*"
   ]
  },
  {
   "cell_type": "markdown",
   "id": "1d646cfe",
   "metadata": {},
   "source": [
    "✳️ **Answer:** "
   ]
  },
  {
   "cell_type": "markdown",
   "id": "a661fa2b",
   "metadata": {},
   "source": [
    "## Interpreting the first principal component"
   ]
  },
  {
   "cell_type": "markdown",
   "id": "341d8620",
   "metadata": {},
   "source": [
    "For our question about bee types, it makes sense to focus on the first principal component (the one with largest variance): If the dissimilarity in bee behavior is connected strongly to gene expression, then we expect these large differences in behavior to correspond to large differences in gene expression.  We are looking for large variance!\n",
    "\n",
    "The first principal component is stored in `pca_results` as `components_[0]` (I include the names of the genes here by creating a `pandas` series indexed by the names in `expressionData.columns`):"
   ]
  },
  {
   "cell_type": "code",
   "execution_count": null,
   "id": "11f15a0b",
   "metadata": {},
   "outputs": [],
   "source": [
    "component1 = pd.Series(pca_results.components_[0],\n",
    "                       index = expressionData.columns)"
   ]
  },
  {
   "cell_type": "markdown",
   "id": "4f6d01e0",
   "metadata": {},
   "source": [
    "Let's see what the first component looks like.  Recall that a principal component is defined in terms of weights given to each of the original dimensions (each of the original genes, in this case):"
   ]
  },
  {
   "cell_type": "code",
   "execution_count": null,
   "id": "ecbcc567",
   "metadata": {},
   "outputs": [],
   "source": [
    "component1"
   ]
  },
  {
   "cell_type": "markdown",
   "id": "fbc4e1b7",
   "metadata": {},
   "source": [
    "So the principal component is a list of length 90, with a weight for each gene (either positive or negative).\n",
    "\n",
    "I typically find it useful to visualize things when possible.  Here's one way to visualize the principal component (I split into two plots for easier leigibility):"
   ]
  },
  {
   "cell_type": "code",
   "execution_count": null,
   "id": "595367fc",
   "metadata": {},
   "outputs": [],
   "source": [
    "plt.figure(figsize=(15,2))  # set up a large plot area\n",
    "component1[:45].plot.bar(); # plot the weights of the first 45 genes"
   ]
  },
  {
   "cell_type": "code",
   "execution_count": null,
   "id": "8dc9bd50",
   "metadata": {},
   "outputs": [],
   "source": [
    "plt.figure(figsize=(15,2))  # set up a large plot area\n",
    "component1[45:].plot.bar(); # plot the weights of all genes past the first 45"
   ]
  },
  {
   "cell_type": "markdown",
   "id": "92dc8f53",
   "metadata": {},
   "source": [
    "How to interpret these results?  Most genes don't contribute much to the principal component (they have small weights), and a few contribute a lot.  One way to find the genes that contribute most is to sort by the absolute value of their weight:"
   ]
  },
  {
   "cell_type": "code",
   "execution_count": null,
   "id": "adf70201",
   "metadata": {},
   "outputs": [],
   "source": [
    "abs(component1).sort_values()"
   ]
  },
  {
   "cell_type": "markdown",
   "id": "263eb683",
   "metadata": {},
   "source": [
    "So *hex 110* has the largest contribution, followed by *Hex70a*, and so on."
   ]
  },
  {
   "cell_type": "markdown",
   "id": "0785e180",
   "metadata": {},
   "source": [
    "## Reducing data to a single dimension"
   ]
  },
  {
   "cell_type": "markdown",
   "id": "b53278ab",
   "metadata": {},
   "source": [
    "Of course, the point of dimensionality reduction is that we can look at the data using these reduced coordinates.  In the extreme case, instead of the full dimensionality of the dataset, we can characterize each sample (each bee) by a *single* number.  This number is the \"linear projection\" of the full dimensional data onto the principal component—that is, we weight the gene expression of each bee by multiplying by the weights of the first principal component, then add them up to get a single value.\n",
    "\n",
    "This projection, also called a \"dot product\", is accomplished by `np.dot`:"
   ]
  },
  {
   "cell_type": "code",
   "execution_count": null,
   "id": "e9cde156",
   "metadata": {},
   "outputs": [],
   "source": [
    "data_along_component1 = np.dot(expressionData,component1)"
   ]
  },
  {
   "cell_type": "markdown",
   "id": "6fd78cfa",
   "metadata": {},
   "source": [
    "Projected along the first principal component, our dataset is reduced to 16 single numbers, one for each bee:"
   ]
  },
  {
   "cell_type": "code",
   "execution_count": null,
   "id": "228afe39",
   "metadata": {},
   "outputs": [],
   "source": [
    "data_along_component1"
   ]
  },
  {
   "cell_type": "markdown",
   "id": "85d6f247",
   "metadata": {},
   "source": [
    "Let's visualize this instead of trying to look at a list of numbers:"
   ]
  },
  {
   "cell_type": "code",
   "execution_count": null,
   "id": "c84815e9",
   "metadata": {},
   "outputs": [],
   "source": [
    "scatter1D(data_along_component1)\n",
    "plt.xlabel('Distance along first component');"
   ]
  },
  {
   "cell_type": "markdown",
   "id": "3f9e048f",
   "metadata": {},
   "source": [
    "Or we might make a histogram:"
   ]
  },
  {
   "cell_type": "code",
   "execution_count": null,
   "id": "02b5c373",
   "metadata": {},
   "outputs": [],
   "source": [
    "plt.hist(data_along_component1,bins=10)\n",
    "plt.xlabel('Distance along first component')\n",
    "plt.ylabel('Number of bees')"
   ]
  },
  {
   "cell_type": "markdown",
   "id": "ae2323da",
   "metadata": {},
   "source": [
    "❓ **Do you see any evidence that the gene expression corresponds to two distinct groups of bees along the principal component?  How might you distinguish this case from what we would expect if gene expression simply varied continuously with no distinct groups?** *Hint: The most naive expectation for continuously varying gene expression would be a bell-shaped normal distribution.*"
   ]
  },
  {
   "cell_type": "markdown",
   "id": "233ee931",
   "metadata": {},
   "source": [
    "✳️ **Answer:** "
   ]
  },
  {
   "cell_type": "markdown",
   "id": "2a7f694c",
   "metadata": {},
   "source": [
    "# Separate bees into potential groups"
   ]
  },
  {
   "cell_type": "markdown",
   "id": "71d0f4bf",
   "metadata": {},
   "source": [
    "We might separate bees into groups by setting a threshold along the first principal component."
   ]
  },
  {
   "cell_type": "markdown",
   "id": "ffb40897",
   "metadata": {},
   "source": [
    "❓ **What threshold value would you use to separate the bees into two distinct groups?** *Hint: Feel free to choose this by eye.*"
   ]
  },
  {
   "cell_type": "markdown",
   "id": "b448aa1f",
   "metadata": {},
   "source": [
    "✳️ **Answer:** "
   ]
  },
  {
   "cell_type": "markdown",
   "id": "ed2096e7",
   "metadata": {},
   "source": [
    "Insert your threshold into the following code, which then splits the bees into two groups and assigns them colors based on which group they are in."
   ]
  },
  {
   "cell_type": "code",
   "execution_count": null,
   "id": "b7fe2a01",
   "metadata": {},
   "outputs": [],
   "source": [
    "threshold = #insert your threshold here#\n",
    "beesA = np.where(data_along_component1 > threshold)[0]\n",
    "beesB = np.where(data_along_component1 < threshold)[0]\n",
    "\n",
    "# make list of colors based on the group\n",
    "colors = []\n",
    "for i in range(16):\n",
    "    if i in beesA: \n",
    "        colors.append('crimson')\n",
    "    else: \n",
    "        colors.append('cornflowerblue')"
   ]
  },
  {
   "cell_type": "markdown",
   "id": "f7be3d38",
   "metadata": {},
   "source": [
    "Here's an example using the colors in a scatter plot (where red dots correspond to bees in group A, and blue to group B):"
   ]
  },
  {
   "cell_type": "code",
   "execution_count": null,
   "id": "a5f76d55",
   "metadata": {},
   "outputs": [],
   "source": [
    "expressionData.plot.scatter('LOC410022','AKHR',\n",
    "                            c=colors,s=100);"
   ]
  },
  {
   "cell_type": "markdown",
   "id": "380f48ff",
   "metadata": {},
   "source": [
    "❓**Which genes do you expect to most correlated with the separation into the two groups?  Check your answer by using the above code to make a 2D colored scatter plot that shows the expression levels of these genes in the two groups.** *Hint: You have already calculated a sorted list of genes above...*"
   ]
  },
  {
   "cell_type": "markdown",
   "id": "892abbec",
   "metadata": {},
   "source": [
    "✳️ **Answer:** "
   ]
  },
  {
   "cell_type": "markdown",
   "id": "f09e32ea",
   "metadata": {},
   "source": [
    "❓ **Do the two groups we noticed above in the scatter plot of *P110* versus *vg* (before we did PCA) also correspond to the two groups defined along the principal component?** "
   ]
  },
  {
   "cell_type": "markdown",
   "id": "1610d180",
   "metadata": {},
   "source": [
    "✳️ **Answer:** "
   ]
  },
  {
   "cell_type": "code",
   "execution_count": null,
   "id": "7d7d7a3e",
   "metadata": {},
   "outputs": [],
   "source": []
  }
 ],
 "metadata": {
  "kernelspec": {
   "display_name": "Python 3 (ipykernel)",
   "language": "python",
   "name": "python3"
  },
  "language_info": {
   "codemirror_mode": {
    "name": "ipython",
    "version": 3
   },
   "file_extension": ".py",
   "mimetype": "text/x-python",
   "name": "python",
   "nbconvert_exporter": "python",
   "pygments_lexer": "ipython3",
   "version": "3.9.12"
  }
 },
 "nbformat": 4,
 "nbformat_minor": 5
}
